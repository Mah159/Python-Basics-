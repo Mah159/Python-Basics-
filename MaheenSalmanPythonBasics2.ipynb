{
  "nbformat": 4,
  "nbformat_minor": 0,
  "metadata": {
    "colab": {
      "provenance": []
    },
    "kernelspec": {
      "name": "python3",
      "display_name": "Python 3"
    },
    "language_info": {
      "name": "python"
    }
  },
  "cells": [
    {
      "cell_type": "markdown",
      "source": [
        "**Task 1: Guessing Game**"
      ],
      "metadata": {
        "id": "NUlF62xtK0UZ"
      }
    },
    {
      "cell_type": "markdown",
      "source": [
        "The game will have the\n",
        "following rules:\n",
        "1. The program will generate a random number between 1 and 50 and store it in a variable\n",
        "called &quot;secret_number.&quot; For this, you will need to import randint() from the random library\n",
        "in python. Run the following line of code in a cell:\n",
        "from random import randint\n",
        "\n",
        "2. The user will be given 5 attempts to guess the &quot;secret_number.&quot;\n",
        "3. The program will use a while loop to repeatedly ask the user for their guess and provide\n",
        "feedback based on their input. (Remember that input() returns a string even if the user\n",
        "enters a number.)\n",
        "4. First, handle the case where the user enters a non-numeric input. For this, you will need to\n",
        "add a try/except block. Google the syntax and under the try block, convert the guess into an\n",
        "int. If the entry is non-numeric, this conversion should fail and python will go to the except\n",
        "block. Under the except block, handle this error by printing &quot;Invalid input! Please enter a\n",
        "valid number” and utilize the continue statement to allow the user to try again without\n",
        "reducing their remaining attempts.\n",
        "5. If the user guesses the correct number, print &quot;Congratulations! You guessed the secret\n",
        "number [secret_number] correctly!&quot; and break out of the loop.\n",
        "6. If the user&#39;s guess is too high, print &quot;Try again! Your guess is too high. You have\n",
        "[attempts_left] attempts left.&quot; where &quot;attempts_left&quot; is the number of remaining attempts.\n",
        "7. If the user&#39;s guess is too low, print &quot;Try again! Your guess is too low. You have\n",
        "[attempts_left] attempts left.&quot;\n",
        "8. If the user runs out of attempts, print &quot;Game Over! The secret number was [secret_number].\n",
        "Better luck next time!&quot; and break out of the loop."
      ],
      "metadata": {
        "id": "JsrJYm5b17OE"
      }
    },
    {
      "cell_type": "code",
      "source": [
        "from random import randint #Importing the randint function from the random module\n",
        "\n",
        "secret_number = randint(1, 50) #generating a random secret number between 1 and 50\n",
        "\n",
        "attempts_left = 5 #initializing the number of attempts left\n",
        "\n",
        "print(\"--- Welcome to the Guessing Game!---\") #displaying a welcome message\n",
        "print(f\"Secret number is {secret_number}\") #revealing the secret number for debugging using f string\n",
        "\n",
        "while attempts_left > 0: #initialzing a while loop that continues until there are no attempts left\n",
        "    try:\n",
        "        guess = int(input(f\"Guess the secret number (1-50). You have {attempts_left} attempts left: \")) #getting the user's guess as an integer\n",
        "    except ValueError:\n",
        "\n",
        "        print(\"Invalid input! Please enter a valid number.\") #for string inputs from the user this message will be printed\n",
        "        continue\n",
        "\n",
        "    if guess == secret_number:\n",
        "        print(f\"Congratulations! You guessed the secret number {secret_number} correctly!\")  #displaying this message using f string the user if the guess is correct and exiting the loop\n",
        "        break\n",
        "    elif guess > secret_number:\n",
        "        print(f\"Try again! Your guess is too high.\") #if the guess is higher than secret number this will be displayed\n",
        "    else:\n",
        "        print(f\"Try again! Your guess is too low.\") #if the guess is smaller than secret number this will be displayed\n",
        "\n",
        "    attempts_left -= 1 #decrement the number of attempts by 1\n",
        "\n",
        "if attempts_left == 0:\n",
        "    print(f\"Game Over! The secret number was {secret_number}. Better luck next time!\") #once user runs out of attempts display this"
      ],
      "metadata": {
        "colab": {
          "base_uri": "https://localhost:8080/"
        },
        "id": "LUOpa84iAytP",
        "outputId": "93945603-5a90-44f4-d121-dc4013eecc7c"
      },
      "execution_count": null,
      "outputs": [
        {
          "output_type": "stream",
          "name": "stdout",
          "text": [
            "--- Welcome to the Guessing Game!---\n",
            "Secret number is 49\n",
            "Guess the secret number (1-50). You have 5 attempts left: 44\n",
            "Try again! Your guess is too low.\n",
            "Guess the secret number (1-50). You have 4 attempts left: a\n",
            "Invalid input! Please enter a valid number.\n",
            "Guess the secret number (1-50). You have 4 attempts left: 2\n",
            "Try again! Your guess is too low.\n",
            "Guess the secret number (1-50). You have 3 attempts left: 6\n",
            "Try again! Your guess is too low.\n",
            "Guess the secret number (1-50). You have 2 attempts left: 8\n",
            "Try again! Your guess is too low.\n",
            "Guess the secret number (1-50). You have 1 attempts left: 0\n",
            "Try again! Your guess is too low.\n",
            "Game Over! The secret number was 49. Better luck next time!\n"
          ]
        }
      ]
    },
    {
      "cell_type": "markdown",
      "source": [
        "**Task 2 a): Calculating Vowels in a sentence**"
      ],
      "metadata": {
        "id": "k8LXjadJf89s"
      }
    },
    {
      "cell_type": "markdown",
      "source": [
        "Write a function called num_vowels that takes in a string as an argument, and returns the\n",
        "number of vowels in that string. Print out the result for the string “Learning Python is fun\n",
        "and engaging.”"
      ],
      "metadata": {
        "id": "pO0tRyF-2Kqw"
      }
    },
    {
      "cell_type": "code",
      "source": [
        "def num_vowels(str):#defining function num_vowels to input and check a string str\n",
        "\n",
        " i = 0 #initializing variable i to check number of vowels in the string\n",
        " str = \"Learning Python is fun and engaging\" #string is initialized as the desired sentence for which vowels have to be checked\n",
        " vowels = \"aeiou\" + \"AEIOU\" #defining vowels in both upper and lower case\n",
        "\n",
        " for letters in str: #for loop is defined to check the string defined above\n",
        "   if letters in vowels:\n",
        "     i +=1 #if statement and for loop will keep running till all the vowels are checked\n",
        " return i #The number of vowels are stored in i and returned here\n",
        "\n",
        "\n",
        "num_vowels(str) #considering the string defined above"
      ],
      "metadata": {
        "colab": {
          "base_uri": "https://localhost:8080/"
        },
        "id": "_6i57HiqgA7E",
        "outputId": "75efac87-6433-4c05-f842-4f6fe56cc9f8"
      },
      "execution_count": null,
      "outputs": [
        {
          "output_type": "execute_result",
          "data": {
            "text/plain": [
              "10"
            ]
          },
          "metadata": {},
          "execution_count": 75
        }
      ]
    },
    {
      "cell_type": "markdown",
      "source": [
        "**Task 2 b): Converting Hours to Minutes**"
      ],
      "metadata": {
        "id": "490HTIoplsHo"
      }
    },
    {
      "cell_type": "markdown",
      "source": [
        "Create a function called hours_to_min that converts hours into minutes. The function\n",
        "should take the number of hours as input and return the equivalent number of minutes.\n",
        "Test the function with 2.5 hours and print the result."
      ],
      "metadata": {
        "id": "2ofOmqKY2MmH"
      }
    },
    {
      "cell_type": "code",
      "source": [
        "def hours_to_min(hours): #defining function with the name hours_to_min with hours as an argument or input\n",
        " minutes = hours * 60 #using formula to convert hours to minutes by multiplying hours with 60 as there are 60 minutes in an hour.\n",
        " return minutes #returning minutes result\n",
        "\n",
        "hours_to_min(2.5) #considering hours to be 2.5"
      ],
      "metadata": {
        "id": "V3xKRLmZlyvU",
        "colab": {
          "base_uri": "https://localhost:8080/"
        },
        "outputId": "4749e91e-3d1b-426a-d3c2-231b1967f675"
      },
      "execution_count": null,
      "outputs": [
        {
          "output_type": "execute_result",
          "data": {
            "text/plain": [
              "150.0"
            ]
          },
          "metadata": {},
          "execution_count": 86
        }
      ]
    },
    {
      "cell_type": "markdown",
      "source": [
        "**Task 2 c): Printing Table of a number**"
      ],
      "metadata": {
        "id": "bpaXeNs6nHpY"
      }
    },
    {
      "cell_type": "markdown",
      "source": [
        "Write a python function that takes in a number as an argument, and prints out the table of\n",
        "that number up to 12 times that number. You may name this whatever you wish."
      ],
      "metadata": {
        "id": "gjYtx1v-2SE7"
      }
    },
    {
      "cell_type": "code",
      "source": [
        "def table(num):\n",
        "    print(\"The Table of\", num, \"is: \")\n",
        "    for i in range(1, 13):\n",
        "        print(f\"{i} x {num} = {i * num}\")\n",
        "\n",
        "table(2)\n"
      ],
      "metadata": {
        "colab": {
          "base_uri": "https://localhost:8080/"
        },
        "id": "unZfgb1MnUq5",
        "outputId": "08ea717e-b778-4125-fd5b-0edc3d79de07"
      },
      "execution_count": null,
      "outputs": [
        {
          "output_type": "stream",
          "name": "stdout",
          "text": [
            "The Table of 2 is: \n",
            "1 x 2 = 2\n",
            "2 x 2 = 4\n",
            "3 x 2 = 6\n",
            "4 x 2 = 8\n",
            "5 x 2 = 10\n",
            "6 x 2 = 12\n",
            "7 x 2 = 14\n",
            "8 x 2 = 16\n",
            "9 x 2 = 18\n",
            "10 x 2 = 20\n",
            "11 x 2 = 22\n",
            "12 x 2 = 24\n"
          ]
        }
      ]
    },
    {
      "cell_type": "markdown",
      "source": [
        "**Task 2 d): Checking Eligibility for Admission**"
      ],
      "metadata": {
        "id": "XRlbIBkgoo7o"
      }
    },
    {
      "cell_type": "markdown",
      "source": [
        "The function should take two\n",
        "arguments: the student&#39;s age and their previous GPA. The eligibility criteria are as follows:\n",
        "- The student must be at least 18 years old.\n",
        "- The student&#39;s previous GPA must be 3.0 or higher on a scale of 4.0.\n",
        "The function should return True if the student meets both criteria, otherwise, return False.\n",
        "Test the function with different ages and GPAs with and without keywords for example:\n",
        "eligibility(30, 3.2) [will depend on which order you provided the positional arguments in the\n",
        "definition]\n",
        "eligibility(GPA = 2.9, age = 40)"
      ],
      "metadata": {
        "id": "G_AmTUwM2XIc"
      }
    },
    {
      "cell_type": "code",
      "source": [
        "def eligibility(gpa, age): #defining function eligibilty to take two arguments gpa and age\n",
        "\n",
        "  if age >= 18: #considering an if condition of age being at least 18\n",
        "   if 3.0 < gpa < 4.0: #defining a nested if with GPA between 3.0 to 4.0 for eligibility\n",
        "    return \"You are eligible for admission in university\" #if both nested if conditions are met, this will be returned\n",
        "\n",
        "  else:\n",
        "    return \"You are not eligible for admission in university\" #if any condition of the ifs is not met, this will be returned\n",
        "age = float((input(\"Kindly enter your age: \"))) #Age input taken from the user, age is an integer but it is kept as float in this case as the arguments of a function must be of the same type\n",
        "gpa = float((input(\"Kindly enter your GPA: \"))) #GPA input taken from the user, kept as float\n",
        "\n",
        "eligibility(gpa ,age)"
      ],
      "metadata": {
        "colab": {
          "base_uri": "https://localhost:8080/",
          "height": 72
        },
        "id": "d7Ia_niqpBTv",
        "outputId": "0d719123-bb93-46a3-a909-103fb32e57ee"
      },
      "execution_count": null,
      "outputs": [
        {
          "name": "stdout",
          "output_type": "stream",
          "text": [
            "Kindly enter your age: 23\n",
            "Kindly enter your GPA: 3.5\n"
          ]
        },
        {
          "output_type": "execute_result",
          "data": {
            "text/plain": [
              "'You are eligible for admission in university'"
            ],
            "application/vnd.google.colaboratory.intrinsic+json": {
              "type": "string"
            }
          },
          "metadata": {},
          "execution_count": 90
        }
      ]
    }
  ]
}